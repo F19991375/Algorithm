{
  "nbformat": 4,
  "nbformat_minor": 0,
  "metadata": {
    "colab": {
      "provenance": [],
      "authorship_tag": "ABX9TyN7PCg4RpqaU6Lu7+aY0KaT",
      "include_colab_link": true
    },
    "kernelspec": {
      "name": "python3",
      "display_name": "Python 3"
    },
    "language_info": {
      "name": "python"
    }
  },
  "cells": [
    {
      "cell_type": "markdown",
      "metadata": {
        "id": "view-in-github",
        "colab_type": "text"
      },
      "source": [
        "<a href=\"https://colab.research.google.com/github/F19991375/Algorithm/blob/main/insertion_sort.ipynb\" target=\"_parent\"><img src=\"https://colab.research.google.com/assets/colab-badge.svg\" alt=\"Open In Colab\"/></a>"
      ]
    },
    {
      "cell_type": "code",
      "execution_count": 3,
      "metadata": {
        "colab": {
          "base_uri": "https://localhost:8080/"
        },
        "id": "9UWt5dXyCXit",
        "outputId": "ea4970b3-8d06-4104-845c-38ddf2debd75"
      },
      "outputs": [
        {
          "output_type": "stream",
          "name": "stdout",
          "text": [
            "[2, 7, 3, 6, 9, 1, 4, 4, 6, 1]\n"
          ]
        }
      ],
      "source": [
        "from random import randint as rnd\n",
        "amount = 10\n",
        "_list = [rnd(1, amount) for _ in range(amount)]\n",
        "print(_list)"
      ]
    },
    {
      "cell_type": "code",
      "source": [
        "for i in range(amount):\n",
        "  for j in range(i):\n",
        "    if _list[j] > _list[i]:\n",
        "      item = _list[i]\n",
        "      _list.pop(i)\n",
        "      _list.insert(j, item)\n",
        "print(_list)"
      ],
      "metadata": {
        "colab": {
          "base_uri": "https://localhost:8080/"
        },
        "id": "7FaDtEYWEXDP",
        "outputId": "c0c01ddd-34a8-41b4-cc70-fa8a5393e777"
      },
      "execution_count": 4,
      "outputs": [
        {
          "output_type": "stream",
          "name": "stdout",
          "text": [
            "[1, 1, 2, 3, 4, 4, 6, 6, 7, 9]\n"
          ]
        }
      ]
    }
  ]
}